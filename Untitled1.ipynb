{
  "metadata": {
    "language_info": {
      "codemirror_mode": {
        "name": "python",
        "version": 3
      },
      "file_extension": ".py",
      "mimetype": "text/x-python",
      "name": "python",
      "nbconvert_exporter": "python",
      "pygments_lexer": "ipython3",
      "version": "3.8"
    },
    "kernelspec": {
      "name": "python",
      "display_name": "Pyolite",
      "language": "python"
    }
  },
  "nbformat_minor": 4,
  "nbformat": 4,
  "cells": [
    {
      "cell_type": "markdown",
      "source": "# My Jupyter Notebook on IBM Watson Studio\n",
      "metadata": {
        "tags": []
      }
    },
    {
      "cell_type": "markdown",
      "source": "<b> Carlos Vicent Monterde </b> <br>\nAdministrativo",
      "metadata": {}
    },
    {
      "cell_type": "markdown",
      "source": "<i> Me interesa la ciencia de datos porque es uno de los negocios del futuro con más progresión y ya es muy importante para la sociedad.</i>",
      "metadata": {}
    },
    {
      "cell_type": "markdown",
      "source": "### El codigo va a multiplicar 2 numeros entre si",
      "metadata": {}
    },
    {
      "cell_type": "code",
      "source": "x=2\ny=3\nprint(x*y)",
      "metadata": {
        "trusted": true
      },
      "execution_count": 5,
      "outputs": [
        {
          "name": "stdout",
          "text": "6\n",
          "output_type": "stream"
        }
      ]
    },
    {
      "cell_type": "markdown",
      "source": "---\nBibliografia\n<ol>\n<li>Instrucciones de la practica: <a> https://cf-courses-data.s3.us.cloud-object-storage.appdomain.cloud/IBMDeveloperSkillsNetwork-DS0105EN-SkillsNetwork/labs/FinalModule_Coursera/Final_Instruction_toolforDS.md.html?origin=www.coursera.org </a> </li>\n<li>Rstudio</li>\n<li>Watston Studio</li>\n</ol>\n",
      "metadata": {}
    },
    {
      "cell_type": "markdown",
      "source": "",
      "metadata": {}
    }
  ]
}